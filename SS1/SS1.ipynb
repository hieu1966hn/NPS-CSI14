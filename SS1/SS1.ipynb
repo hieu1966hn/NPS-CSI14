{
 "cells": [
  {
   "cell_type": "markdown",
   "id": "6b143290",
   "metadata": {},
   "source": [
    "# Bài 1: Thế giới AI\n",
    "- Giới thiệu SP đầu ra của level Intensive\n",
    "- Các khái niệm về AI\n",
    "- Ảnh hưởng của AI trong đời sống và xã hội\n",
    "- AI được huấn luyện như thế nào: Làm quen với mạng Neuron"
   ]
  }
 ],
 "metadata": {
  "kernelspec": {
   "display_name": "Python 3",
   "language": "python",
   "name": "python3"
  },
  "language_info": {
   "codemirror_mode": {
    "name": "ipython",
    "version": 3
   },
   "file_extension": ".py",
   "mimetype": "text/x-python",
   "name": "python",
   "nbconvert_exporter": "python",
   "pygments_lexer": "ipython3",
   "version": "3.13.6"
  }
 },
 "nbformat": 4,
 "nbformat_minor": 5
}
