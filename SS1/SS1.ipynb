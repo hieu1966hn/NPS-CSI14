{
 "cells": [
  {
   "cell_type": "markdown",
   "id": "6b143290",
   "metadata": {},
   "source": [
    "# Bài 1: Thế giới AI\n",
    "- Giới thiệu SP đầu ra của level Intensive\n",
    "- Các khái niệm về AI\n",
    "- Ảnh hưởng của AI trong đời sống và xã hội\n",
    "- AI được huấn luyện như thế nào: Làm quen với mạng Neuron"
   ]
  }
 ],
 "metadata": {
  "kernelspec": {
   "display_name": ".venv",
   "language": "python",
   "name": "python3"
  },
  "language_info": {
   "name": "python",
   "version": "3.9.6"
  }
 },
 "nbformat": 4,
 "nbformat_minor": 5
}
