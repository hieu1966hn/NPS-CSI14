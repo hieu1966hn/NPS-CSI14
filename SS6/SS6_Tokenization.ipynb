{
 "cells": [
  {
   "cell_type": "code",
   "execution_count": 1,
   "id": "8170e76b",
   "metadata": {},
   "outputs": [
    {
     "name": "stdout",
     "output_type": "stream",
     "text": [
      "['Tôi thích học khoá Computer Science.', 'Bạn có đam mê khoa học máy tính không?', 'Huy thích lập trình giải quyết vấn đề.', 'An muốn lập trình game bằng Python.', 'Mỹ có nhiều dự án Scratch hay.', 'Em thấy lập trình giống với trò chơi giải đố.', 'Không có gì đã bằng code chạy lần đầu tiên đúng luôn', 'Sở thích của mình là lập trình các dự án hay']\n"
     ]
    }
   ],
   "source": [
    "# Dữ liệu mẫu\n",
    "sentences = [\n",
    "    \"Tôi thích học khoá Computer Science.\",\n",
    "    \"Bạn có đam mê khoa học máy tính không?\",\n",
    "    \"Huy thích lập trình giải quyết vấn đề.\",\n",
    "    \"An muốn lập trình game bằng Python.\",\n",
    "    \"Mỹ có nhiều dự án Scratch hay.\",\n",
    "    \"Em thấy lập trình giống với trò chơi giải đố.\",\n",
    "    \"Không có gì đã bằng code chạy lần đầu tiên đúng luôn\",\n",
    "    \"Sở thích của mình là lập trình các dự án hay\"\n",
    "]\n",
    "print(sentences)"
   ]
  },
  {
   "cell_type": "code",
   "execution_count": 2,
   "id": "df7e7f80",
   "metadata": {},
   "outputs": [
    {
     "name": "stdout",
     "output_type": "stream",
     "text": [
      "{'<OOV>': 1,\n",
      " 'an': 27,\n",
      " 'bạn': 17,\n",
      " 'bằng': 9,\n",
      " 'chơi': 39,\n",
      " 'chạy': 44,\n",
      " 'code': 43,\n",
      " 'computer': 15,\n",
      " 'các': 54,\n",
      " 'có': 5,\n",
      " 'của': 51,\n",
      " 'dự': 10,\n",
      " 'em': 34,\n",
      " 'game': 29,\n",
      " 'giải': 8,\n",
      " 'giống': 36,\n",
      " 'gì': 41,\n",
      " 'hay': 12,\n",
      " 'huy': 23,\n",
      " 'học': 6,\n",
      " 'khoa': 20,\n",
      " 'khoá': 14,\n",
      " 'không': 7,\n",
      " 'luôn': 49,\n",
      " 'là': 53,\n",
      " 'lần': 45,\n",
      " 'lập': 2,\n",
      " 'muốn': 28,\n",
      " 'máy': 21,\n",
      " 'mê': 19,\n",
      " 'mình': 52,\n",
      " 'mỹ': 31,\n",
      " 'nhiều': 32,\n",
      " 'python': 30,\n",
      " 'quyết': 24,\n",
      " 'science': 16,\n",
      " 'scratch': 33,\n",
      " 'sở': 50,\n",
      " 'thích': 4,\n",
      " 'thấy': 35,\n",
      " 'tiên': 47,\n",
      " 'trình': 3,\n",
      " 'trò': 38,\n",
      " 'tính': 22,\n",
      " 'tôi': 13,\n",
      " 'vấn': 25,\n",
      " 'với': 37,\n",
      " 'án': 11,\n",
      " 'đam': 18,\n",
      " 'đã': 42,\n",
      " 'đúng': 48,\n",
      " 'đầu': 46,\n",
      " 'đề': 26,\n",
      " 'đố': 40}\n"
     ]
    }
   ],
   "source": [
    "from tensorflow.keras.preprocessing.text import Tokenizer\n",
    "\n",
    "# Tạo Tokenizer\n",
    "tokenizer = Tokenizer(num_words=100, oov_token=\"<OOV>\")\n",
    "\n",
    "# Huấn luyện Tokenizer trên dữ liệu\n",
    "tokenizer.fit_on_texts(sentences)\n",
    "\n",
    "\n",
    "# In ra từ điển\n",
    "from pprint import pprint\n",
    "word_index = tokenizer.word_index\n",
    "pprint(word_index)\n"
   ]
  },
  {
   "cell_type": "code",
   "execution_count": 3,
   "id": "d88de6d3",
   "metadata": {},
   "outputs": [
    {
     "name": "stdout",
     "output_type": "stream",
     "text": [
      "Tôi thích học khoá Computer Science.\n",
      "[13, 4, 6, 14, 15, 16]\n",
      "\n",
      "Bạn có đam mê khoa học máy tính không?\n",
      "[17, 5, 18, 19, 20, 6, 21, 22, 7]\n",
      "\n",
      "Huy thích lập trình giải quyết vấn đề.\n",
      "[23, 4, 2, 3, 8, 24, 25, 26]\n",
      "\n"
     ]
    }
   ],
   "source": [
    "# Sử dụng tokenizer đã huấn luyện để tokenize 3 câu đầu tiên \n",
    "sequences = tokenizer.texts_to_sequences(sentences)\n",
    "\n",
    "# In ra kết quả tokenize 3 câu đầu\n",
    "for i in range(3):\n",
    "    print(sentences[i]) # 0 - 1 - 2 => Câu gốc\n",
    "    print(sequences[i]) # 0 - 1 - 2 => Sau khi Token hoá từ chữ -> số theo từ điển đã huấn luyện\n",
    "    print()"
   ]
  },
  {
   "cell_type": "code",
   "execution_count": 6,
   "id": "89920336",
   "metadata": {},
   "outputs": [
    {
     "name": "stdout",
     "output_type": "stream",
     "text": [
      "Nam thích kem.\n",
      "[1, 4, 1]\n",
      "An thích Computer Science\n",
      "[27, 4, 15, 16]\n"
     ]
    }
   ],
   "source": [
    "test_data = [\n",
    "    \"Nam thích kem.\",\n",
    "    \"An thích Computer Science\"\n",
    "]\n",
    "\n",
    "test_seq = tokenizer.texts_to_sequences(test_data)\n",
    "\n",
    "for i in range(len(test_seq)):\n",
    "    print(test_data[i])\n",
    "    print(test_seq[i])"
   ]
  },
  {
   "cell_type": "code",
   "execution_count": 9,
   "id": "4974c28d",
   "metadata": {},
   "outputs": [
    {
     "name": "stdout",
     "output_type": "stream",
     "text": [
      "[[ 1  4  1  0  0  0  0  0  0  0]\n",
      " [27  4 15 16  0  0  0  0  0  0]]\n"
     ]
    }
   ],
   "source": [
    "from tensorflow.keras.utils import pad_sequences\n",
    "\n",
    "padded = pad_sequences(test_seq, maxlen=10, truncating=\"post\", padding=\"post\")\n",
    "print(padded)\n",
    "\n",
    "# maxlen=10: Nếu chuỗi ngắn hơn 10 => thêm số 0 (dài hơn thì bị cắt bớt truncating)\n",
    "# padding=\"post\": Thêm số 0 ở cuối chuỗi - ngược lại \"pre\" sẽ thêm số 0 ở đầu chuỗi\n",
    "# truncating=\"post\": Khi chuỗi dài hơn maxlen, sẽ cắt bỏ ở cuối - ngược lại \"pre\" sẽ cắt ở đầu\n"
   ]
  }
 ],
 "metadata": {
  "kernelspec": {
   "display_name": ".venv",
   "language": "python",
   "name": "python3"
  },
  "language_info": {
   "codemirror_mode": {
    "name": "ipython",
    "version": 3
   },
   "file_extension": ".py",
   "mimetype": "text/x-python",
   "name": "python",
   "nbconvert_exporter": "python",
   "pygments_lexer": "ipython3",
   "version": "3.11.13"
  }
 },
 "nbformat": 4,
 "nbformat_minor": 5
}
